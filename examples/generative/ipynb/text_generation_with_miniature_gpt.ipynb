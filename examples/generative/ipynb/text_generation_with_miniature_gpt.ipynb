{
  "cells": [
    {
      "cell_type": "markdown",
      "metadata": {
        "id": "pV-VnbIK7IMD"
      },
      "source": [
        "# Text generation with a miniature GPT\n",
        "\n",
      ]
    },
    {
      "cell_type": "markdown",
      "metadata": {
        "id": "bTQm7DB17IMH"
      },
      "source": [
        "## Introduction\n",
        "\n",
        "This example demonstrates how to implement an autoregressive language model\n",
        "using a miniature version of the GPT model.\n",
        "The model consists of a single Transformer block with causal masking\n",
        "in its attention layer.\n",
        "We use the text from the IMDB sentiment classification dataset for training\n",
        "and generate new movie reviews for a given prompt.\n",
        "When using this script with your own dataset, make sure it has at least\n",
        "1 million words.\n",
        "\n",
        "This example should be run with `tf-nightly>=2.3.0-dev20200531` or\n",
        "with TensorFlow 2.3 or higher.\n",
        "\n",
        "**References:**\n",
        "\n",
        "- [GPT](https://www.semanticscholar.org/paper/Improving-Language-Understanding-by-Generative-Radford/cd18800a0fe0b668a1cc19f2ec95b5003d0a5035)\n",
        "- [GPT-2](https://www.semanticscholar.org/paper/Language-Models-are-Unsupervised-Multitask-Learners-Radford-Wu/9405cc0d6169988371b2755e573cc28650d14dfe)\n",
        "- [GPT-3](https://arxiv.org/abs/2005.14165)"
      ]
    },
    {
      "cell_type": "markdown",
      "metadata": {
        "id": "8Z7mLRas7IMI"
      },
      "source": [
        "## Setup"
      ]
    },
    {
      "cell_type": "code",
      "execution_count": 1,
      "metadata": {
        "id": "s0jMIqRV7IMJ"
      },
      "outputs": [],
      "source": [
        "# We set the backend to TensorFlow. The code works with\n",
        "# both `tensorflow` and `torch`. It does not work with JAX\n",
        "# due to the behavior of `jax.numpy.tile` in a jit scope\n",
        "# (used in `causal_attention_mask()`: `tile` in JAX does\n",
        "# not support a dynamic `reps` argument.\n",
        "# You can make the code work in JAX by wrapping the\n",
        "# inside of the `causal_attention_mask` function in\n",
        "# a decorator to prevent jit compilation:\n",
        "# `with jax.ensure_compile_time_eval():`.\n",
        "import os\n",
        "\n",
        "os.environ[\"KERAS_BACKEND\"] = \"tensorflow\"\n",
        "\n",
        "import keras\n",
        "from keras import layers\n",
        "from keras import ops\n",
        "from keras.layers import TextVectorization\n",
        "import numpy as np\n",
        "import os\n",
        "import string\n",
        "import random\n",
        "import tensorflow\n",
        "import tensorflow.data as tf_data\n",
        "import tensorflow.strings as tf_strings\n"
      ]
    },
    {
      "cell_type": "markdown",
      "metadata": {
        "id": "tUmuCngT7IMK"
      },
      "source": [
        "## Implement a Transformer block as a layer"
      ]
    },
    {
      "cell_type": "code",
      "execution_count": 2,
      "metadata": {
        "id": "ANARPP4Y7IMK"
      },
      "outputs": [],
      "source": [
        "\n",
        "def causal_attention_mask(batch_size, n_dest, n_src, dtype):\n",
        "    \"\"\"\n",
        "    Mask the upper half of the dot product matrix in self attention.\n",
        "    This prevents flow of information from future tokens to current token.\n",
        "    1's in the lower triangle, counting from the lower right corner.\n",
        "    \"\"\"\n",
        "    i = ops.arange(n_dest)[:, None]\n",
        "    j = ops.arange(n_src)\n",
        "    m = i >= j - n_src + n_dest\n",
        "    mask = ops.cast(m, dtype)\n",
        "    mask = ops.reshape(mask, [1, n_dest, n_src])\n",
        "    mult = ops.concatenate(\n",
        "        [ops.expand_dims(batch_size, -1), ops.convert_to_tensor([1, 1])], 0\n",
        "    )\n",
        "    return ops.tile(mask, mult)\n",
        "\n",
        "\n",
        "class TransformerBlock(layers.Layer):\n",
        "    def __init__(self, embed_dim, num_heads, ff_dim, rate=0.1):\n",
        "        super().__init__()\n",
        "        self.att = layers.MultiHeadAttention(num_heads, embed_dim)\n",
        "        self.ffn = keras.Sequential(\n",
        "            [\n",
        "                layers.Dense(ff_dim, activation=\"relu\"),\n",
        "                layers.Dense(embed_dim),\n",
        "            ]\n",
        "        )\n",
        "        self.layernorm1 = layers.LayerNormalization(epsilon=1e-6)\n",
        "        self.layernorm2 = layers.LayerNormalization(epsilon=1e-6)\n",
        "        self.dropout1 = layers.Dropout(rate)\n",
        "        self.dropout2 = layers.Dropout(rate)\n",
        "\n",
        "    def call(self, inputs):\n",
        "        input_shape = ops.shape(inputs)\n",
        "        batch_size = input_shape[0]\n",
        "        seq_len = input_shape[1]\n",
        "        causal_mask = causal_attention_mask(batch_size, seq_len, seq_len, \"bool\")\n",
        "        attention_output = self.att(inputs, inputs, attention_mask=causal_mask)\n",
        "        attention_output = self.dropout1(attention_output)\n",
        "        out1 = self.layernorm1(inputs + attention_output)\n",
        "        ffn_output = self.ffn(out1)\n",
        "        ffn_output = self.dropout2(ffn_output)\n",
        "        return self.layernorm2(out1 + ffn_output)\n"
      ]
    },
    {
      "cell_type": "markdown",
      "metadata": {
        "id": "rSk7hYCQ7IML"
      },
      "source": [
        "## Implement an embedding layer\n",
        "\n",
        "Create two separate embedding layers: one for tokens and one for token index\n",
        "(positions)."
      ]
    },
    {
      "cell_type": "code",
      "execution_count": 3,
      "metadata": {
        "id": "ZwBZf1Dh7IMM"
      },
      "outputs": [],
      "source": [
        "\n",
        "class TokenAndPositionEmbedding(layers.Layer):\n",
        "    def __init__(self, maxlen, vocab_size, embed_dim):\n",
        "        super().__init__()\n",
        "        self.token_emb = layers.Embedding(input_dim=vocab_size, output_dim=embed_dim)\n",
        "        self.pos_emb = layers.Embedding(input_dim=maxlen, output_dim=embed_dim)\n",
        "\n",
        "    def call(self, x):\n",
        "        maxlen = ops.shape(x)[-1]\n",
        "        positions = ops.arange(0, maxlen, 1)\n",
        "        positions = self.pos_emb(positions)\n",
        "        x = self.token_emb(x)\n",
        "        return x + positions\n"
      ]
    },
    {
      "cell_type": "markdown",
      "metadata": {
        "id": "_PBG-D_U7IMN"
      },
      "source": [
        "## Implement the miniature GPT model"
      ]
    },
    {
      "cell_type": "code",
      "execution_count": 4,
      "metadata": {
        "id": "NxhAw-6O7IMO"
      },
      "outputs": [],
      "source": [
        "vocab_size = 20000  # Only consider the top 20k words\n",
        "maxlen = 80  # Max sequence size\n",
        "embed_dim = 256  # Embedding size for each token\n",
        "num_heads = 2  # Number of attention heads\n",
        "feed_forward_dim = 256  # Hidden layer size in feed forward network inside transformer\n",
        "\n",
        "\n",
        "def create_model():\n",
        "    inputs = layers.Input(shape=(maxlen,), dtype=\"int32\")\n",
        "    embedding_layer = TokenAndPositionEmbedding(maxlen, vocab_size, embed_dim)\n",
        "    x = embedding_layer(inputs)\n",
        "    transformer_block = TransformerBlock(embed_dim, num_heads, feed_forward_dim)\n",
        "    x = transformer_block(x)\n",
        "    outputs = layers.Dense(vocab_size)(x)\n",
        "    model = keras.Model(inputs=inputs, outputs=[outputs, x])\n",
        "    loss_fn = keras.losses.SparseCategoricalCrossentropy(from_logits=True)\n",
        "    model.compile(\n",
        "        \"adam\",\n",
        "        loss=[loss_fn, None],\n",
        "    )  # No loss and optimization based on word embeddings from transformer block\n",
        "    return model\n"
      ]
    },
    {
      "cell_type": "markdown",
      "metadata": {
        "id": "bsBsUPwi7IMO"
      },
      "source": [
        "## Prepare the data for word-level language modelling\n",
        "\n",
        "Download the IMDB dataset and combine training and validation sets for a text\n",
        "generation task."
      ]
    },
    {
      "cell_type": "code",
      "execution_count": 5,
      "metadata": {
        "id": "kv19qHd97IMO",
        "outputId": "37467287-bab8-4915-97f8-cc52a89a47ef",
        "colab": {
          "base_uri": "https://localhost:8080/"
        }
      },
      "outputs": [
        {
          "output_type": "stream",
          "name": "stdout",
          "text": [
            "  % Total    % Received % Xferd  Average Speed   Time    Time     Time  Current\n",
            "                                 Dload  Upload   Total   Spent    Left  Speed\n",
            "100 80.2M  100 80.2M    0     0  23.1M      0  0:00:03  0:00:03 --:--:-- 23.2M\n"
          ]
        }
      ],
      "source": [
        "!curl -O https://ai.stanford.edu/~amaas/data/sentiment/aclImdb_v1.tar.gz\n",
        "!tar -xf aclImdb_v1.tar.gz"
      ]
    },
    {
      "cell_type": "code",
      "execution_count": 6,
      "metadata": {
        "id": "VzvPDItO7IMO",
        "outputId": "0dd2e454-daa3-4b1a-ef7d-5cf135eb8283",
        "colab": {
          "base_uri": "https://localhost:8080/"
        }
      },
      "outputs": [
        {
          "output_type": "stream",
          "name": "stdout",
          "text": [
            "50000 files\n"
          ]
        }
      ],
      "source": [
        "\n",
        "batch_size = 128\n",
        "\n",
        "# The dataset contains each review in a separate text file\n",
        "# The text files are present in four different folders\n",
        "# Create a list all files\n",
        "filenames = []\n",
        "directories = [\n",
        "    \"aclImdb/train/pos\",\n",
        "    \"aclImdb/train/neg\",\n",
        "    \"aclImdb/test/pos\",\n",
        "    \"aclImdb/test/neg\",\n",
        "]\n",
        "for dir in directories:\n",
        "    for f in os.listdir(dir):\n",
        "        filenames.append(os.path.join(dir, f))\n",
        "\n",
        "print(f\"{len(filenames)} files\")\n",
        "\n",
        "# Create a dataset from text files\n",
        "random.shuffle(filenames)\n",
        "text_ds = tf_data.TextLineDataset(filenames)\n",
        "text_ds = text_ds.shuffle(buffer_size=256)\n",
        "text_ds = text_ds.batch(batch_size)\n",
        "\n",
        "\n",
        "def custom_standardization(input_string):\n",
        "    \"\"\"Remove html line-break tags and handle punctuation\"\"\"\n",
        "    lowercased = tf_strings.lower(input_string)\n",
        "    stripped_html = tf_strings.regex_replace(lowercased, \"<br />\", \" \")\n",
        "    return tf_strings.regex_replace(stripped_html, f\"([{string.punctuation}])\", r\" \\1\")\n",
        "\n",
        "\n",
        "# Create a vectorization layer and adapt it to the text\n",
        "vectorize_layer = TextVectorization(\n",
        "    standardize=custom_standardization,\n",
        "    max_tokens=vocab_size - 1,\n",
        "    output_mode=\"int\",\n",
        "    output_sequence_length=maxlen + 1,\n",
        ")\n",
        "vectorize_layer.adapt(text_ds)\n",
        "vocab = vectorize_layer.get_vocabulary()  # To get words back from token indices\n",
        "\n",
        "\n",
        "def prepare_lm_inputs_labels(text):\n",
        "    \"\"\"\n",
        "    Shift word sequences by 1 position so that the target for position (i) is\n",
        "    word at position (i+1). The model will use all words up till position (i)\n",
        "    to predict the next word.\n",
        "    \"\"\"\n",
        "    text = tensorflow.expand_dims(text, -1)\n",
        "    tokenized_sentences = vectorize_layer(text)\n",
        "    x = tokenized_sentences[:, :-1]\n",
        "    y = tokenized_sentences[:, 1:]\n",
        "    return x, y\n",
        "\n",
        "\n",
        "text_ds = text_ds.map(prepare_lm_inputs_labels, num_parallel_calls=tf_data.AUTOTUNE)\n",
        "text_ds = text_ds.prefetch(tf_data.AUTOTUNE)\n"
      ]
    },
    {
      "cell_type": "markdown",
      "metadata": {
        "id": "QM0NEz377IMP"
      },
      "source": [
        "## Implement a Keras callback for generating text"
      ]
    },
    {
      "cell_type": "code",
      "execution_count": 7,
      "metadata": {
        "id": "T49z4Ctp7IMP"
      },
      "outputs": [],
      "source": [
        "\n",
        "class TextGenerator(keras.callbacks.Callback):\n",
        "    \"\"\"A callback to generate text from a trained model.\n",
        "    1. Feed some starting prompt to the model\n",
        "    2. Predict probabilities for the next token\n",
        "    3. Sample the next token and add it to the next input\n",
        "\n",
        "    Arguments:\n",
        "        max_tokens: Integer, the number of tokens to be generated after prompt.\n",
        "        start_tokens: List of integers, the token indices for the starting prompt.\n",
        "        index_to_word: List of strings, obtained from the TextVectorization layer.\n",
        "        top_k: Integer, sample from the `top_k` token predictions.\n",
        "        print_every: Integer, print after this many epochs.\n",
        "    \"\"\"\n",
        "\n",
        "    def __init__(\n",
        "        self, max_tokens, start_tokens, index_to_word, top_k=10, print_every=1\n",
        "    ):\n",
        "        self.max_tokens = max_tokens\n",
        "        self.start_tokens = start_tokens\n",
        "        self.index_to_word = index_to_word\n",
        "        self.print_every = print_every\n",
        "        self.k = top_k\n",
        "\n",
        "    def sample_from(self, logits):\n",
        "        logits, indices = ops.top_k(logits, k=self.k, sorted=True)\n",
        "        indices = np.asarray(indices).astype(\"int32\")\n",
        "        preds = keras.activations.softmax(ops.expand_dims(logits, 0))[0]\n",
        "        preds = np.asarray(preds).astype(\"float32\")\n",
        "        return np.random.choice(indices, p=preds)\n",
        "\n",
        "    def detokenize(self, number):\n",
        "        return self.index_to_word[number]\n",
        "\n",
        "    def on_epoch_end(self, epoch, logs=None):\n",
        "        start_tokens = [_ for _ in self.start_tokens]\n",
        "        if (epoch + 1) % self.print_every != 0:\n",
        "            return\n",
        "        num_tokens_generated = 0\n",
        "        tokens_generated = []\n",
        "        while num_tokens_generated <= self.max_tokens:\n",
        "            pad_len = maxlen - len(start_tokens)\n",
        "            sample_index = len(start_tokens) - 1\n",
        "            if pad_len < 0:\n",
        "                x = start_tokens[:maxlen]\n",
        "                sample_index = maxlen - 1\n",
        "            elif pad_len > 0:\n",
        "                x = start_tokens + [0] * pad_len\n",
        "            else:\n",
        "                x = start_tokens\n",
        "            x = np.array([x])\n",
        "            y, _ = self.model.predict(x, verbose=0)\n",
        "            sample_token = self.sample_from(y[0][sample_index])\n",
        "            tokens_generated.append(sample_token)\n",
        "            start_tokens.append(sample_token)\n",
        "            num_tokens_generated = len(tokens_generated)\n",
        "        txt = \" \".join(\n",
        "            [self.detokenize(_) for _ in self.start_tokens + tokens_generated]\n",
        "        )\n",
        "        print(f\"generated text:\\n{txt}\\n\")\n",
        "\n",
        "\n",
        "# Tokenize starting prompt\n",
        "word_to_index = {}\n",
        "for index, word in enumerate(vocab):\n",
        "    word_to_index[word] = index\n",
        "\n",
        "start_prompt = \"this movie is\"\n",
        "start_tokens = [word_to_index.get(_, 1) for _ in start_prompt.split()]\n",
        "num_tokens_generated = 40\n",
        "text_gen_callback = TextGenerator(num_tokens_generated, start_tokens, vocab)\n"
      ]
    },
    {
      "cell_type": "markdown",
      "metadata": {
        "id": "-o_Xp18e7IMP"
      },
      "source": [
        "## Train the model\n",
        "\n",
        "Note: This code should preferably be run on GPU."
      ]
    },
    {
      "cell_type": "code",
      "execution_count": 8,
      "metadata": {
        "id": "k_Zm07z77IMP",
        "outputId": "c1c8c216-7e5a-48c4-8f22-8a884882c2d4",
        "colab": {
          "base_uri": "https://localhost:8080/"
        }
      },
      "outputs": [
        {
          "output_type": "stream",
          "name": "stdout",
          "text": [
            "Epoch 1/25\n"
          ]
        },
        {
          "output_type": "stream",
          "name": "stderr",
          "text": [
            "/usr/local/lib/python3.11/dist-packages/keras/src/trainers/epoch_iterator.py:151: UserWarning: Your input ran out of data; interrupting training. Make sure that your dataset or generator can generate at least `steps_per_epoch * epochs` batches. You may need to use the `.repeat()` function when building your dataset.\n",
            "  self._interrupted_warning()\n"
          ]
        },
        {
          "output_type": "stream",
          "name": "stdout",
          "text": [
            "generated text:\n",
            "this movie is a little movie . i 've seen it was not to watch . the plot . it was very bad as well . . i was very disappointed . . . . . . this is so many of all the\n",
            "\n",
            "391/391 - 80s - 204ms/step - loss: 5.4538\n",
            "Epoch 2/25\n",
            "generated text:\n",
            "this movie is so awful i can 't believe it was the only good thing i was in my opinion . . . . . . . .i don 't like to say . . . . . . . . . . .\n",
            "\n",
            "391/391 - 67s - 172ms/step - loss: 4.7009\n",
            "Epoch 3/25\n",
            "generated text:\n",
            "this movie is a very good story , it 's not funny . but it doesn 't mean . this movie was awful . i just finished , because it has no idea what was going to do . a waste of time .\n",
            "\n",
            "391/391 - 85s - 218ms/step - loss: 4.4583\n",
            "Epoch 4/25\n",
            "generated text:\n",
            "this movie is so boring . it shows that you have ever spent on the whole [UNK] , and i just like watching a good movie and it 's just plain stupid and bad . it 's just awful . i 'm sure the\n",
            "\n",
            "391/391 - 64s - 165ms/step - loss: 4.3049\n",
            "Epoch 5/25\n",
            "generated text:\n",
            "this movie is a great family drama about a group of kids whose parents are unaware of their parents , who they are [UNK] their neighbors , and their friends and they are to have just spent their money on their own life in\n",
            "\n",
            "391/391 - 82s - 210ms/step - loss: 4.1875\n",
            "Epoch 6/25\n",
            "generated text:\n",
            "this movie is a great movie with all these actors are so [UNK] . they are all right , and they are so bad . they are they so fake , and they 're pretty good and they are [UNK] , but they are\n",
            "\n",
            "391/391 - 83s - 212ms/step - loss: 4.0909\n",
            "Epoch 7/25\n",
            "generated text:\n",
            "this movie is an excellent example of the best actors of the film , the script and direction from the outset , and the acting is superb . it 's a good script by the acting , the music was terrible , and the\n",
            "\n",
            "391/391 - 81s - 207ms/step - loss: 4.0081\n",
            "Epoch 8/25\n",
            "generated text:\n",
            "this movie is not very well worth the time . i was surprised that they made a good thing . it really upsets the wrong story . the viewer was told in this movie . the first one is not that i have watched\n",
            "\n",
            "391/391 - 64s - 164ms/step - loss: 3.9353\n",
            "Epoch 9/25\n",
            "generated text:\n",
            "this movie is a complete waste of time . it 's a good story , but i think it 's a very good movie that has it and is not one of the best films that can be attributed to the fact that i\n",
            "\n",
            "391/391 - 82s - 211ms/step - loss: 3.8709\n",
            "Epoch 10/25\n",
            "generated text:\n",
            "this movie is one of my favorites . and it 's hard to believe that , when the first two movies were released in theaters . this is one of the most boring and slow moving . if you like the old house of\n",
            "\n",
            "391/391 - 82s - 209ms/step - loss: 3.8128\n",
            "Epoch 11/25\n",
            "generated text:\n",
            "this movie is just an awful jumble . i think the fact that most people are in the first 5 minutes and 6 characters are [UNK] -dimensional ; a few of the characters is [UNK] and [UNK] [UNK] ' actions . they are very\n",
            "\n",
            "391/391 - 64s - 164ms/step - loss: 3.7601\n",
            "Epoch 12/25\n",
            "generated text:\n",
            "this movie is about a [UNK] girl who gets kidnapped and flown to get the [UNK] [UNK] . they have a very little bit in the west wing chair . the film 's premise is so good , it 's hard to be funny\n",
            "\n",
            "391/391 - 83s - 212ms/step - loss: 3.7119\n",
            "Epoch 13/25\n",
            "generated text:\n",
            "this movie is an embarrassment to a friend of mine and i had never seen this movie . i would have thought it was a great movie , but i thought they 'd be one of the best films ever ! i have seen\n",
            "\n",
            "391/391 - 64s - 165ms/step - loss: 3.6680\n",
            "Epoch 14/25\n",
            "generated text:\n",
            "this movie is a very enjoyable watch . this is a great film . it has a plot which i love interest . however , if you don 't think this is the main message of this film was just about it . i\n",
            "\n",
            "391/391 - 83s - 213ms/step - loss: 3.6274\n",
            "Epoch 15/25\n",
            "generated text:\n",
            "this movie is a terrible attempt to make the original horror movie . i mean the idea was to make a very interesting film . the story is told with a great twist and a bit more story than a [UNK] , but what\n",
            "\n",
            "391/391 - 64s - 165ms/step - loss: 3.5902\n",
            "Epoch 16/25\n",
            "generated text:\n",
            "this movie is a great movie and i love the music . it has all the time of its life . its so bad , it 's the kind of film that i have to say that this movie was just a bit confusing\n",
            "\n",
            "391/391 - 83s - 213ms/step - loss: 3.5553\n",
            "Epoch 17/25\n",
            "generated text:\n",
            "this movie is one of those movies that i have seen and the good ones that have made me laugh out loud and just plain terrible . i can 't say , i just didn 't care about it . it was a real\n",
            "\n",
            "391/391 - 81s - 206ms/step - loss: 3.5237\n",
            "Epoch 18/25\n",
            "generated text:\n",
            "this movie is a masterpiece , and if you are the [UNK] \" or [UNK] the term \" of [UNK] . . i have never seen [UNK] \" a film . it has a story with a good plot that has a few twists\n",
            "\n",
            "391/391 - 84s - 216ms/step - loss: 3.4939\n",
            "Epoch 19/25\n",
            "generated text:\n",
            "this movie is very good . it 's a very funny movie . the plot doesn 't seem to be too good , the acting , the direction , editing , directing , etc . this movie is awful ! ! ! it 's\n",
            "\n",
            "391/391 - 79s - 203ms/step - loss: 3.4658\n",
            "Epoch 20/25\n",
            "generated text:\n",
            "this movie is really a great film with great imagination and great actors like their good ideas . the movie was a lot of people who like to meet them and they just have to see them all . this is one of them\n",
            "\n",
            "391/391 - 64s - 164ms/step - loss: 3.4406\n",
            "Epoch 21/25\n",
            "generated text:\n",
            "this movie is a masterpiece . i am so angry and i have to say that it shows how the grinch stole christmas . . it was funny and very well acted . i thought it was a good family moving ! i was\n",
            "\n",
            "391/391 - 82s - 211ms/step - loss: 3.4159\n",
            "Epoch 22/25\n",
            "generated text:\n",
            "this movie is really great . i 'm not a big fan of the [UNK] . and i have to admit i really loved it . and it also had a great feeling about being in the first movie . i loved it ,\n",
            "\n",
            "391/391 - 64s - 164ms/step - loss: 3.3933\n",
            "Epoch 23/25\n",
            "generated text:\n",
            "this movie is about a woman who is a teacher who doesn 't do anything for her . it is not only one of them . there are the story and the main characters in the story of the [UNK] , and the actors\n",
            "\n",
            "391/391 - 65s - 167ms/step - loss: 3.3712\n",
            "Epoch 24/25\n",
            "generated text:\n",
            "this movie is terrible and boring ! ! ! i was totally surprised when it comes to mind and not even the [UNK] \" i felt that the [UNK] \" is just a remake . i don 't understand it , but i don\n",
            "\n",
            "391/391 - 81s - 208ms/step - loss: 3.3515\n",
            "Epoch 25/25\n",
            "generated text:\n",
            "this movie is an example of how a person can make a movie to get in the grasp of whats going to say is the least that is a big game that has a lot of money to make this movie out of the\n",
            "\n",
            "391/391 - 82s - 210ms/step - loss: 3.3326\n"
          ]
        },
        {
          "output_type": "execute_result",
          "data": {
            "text/plain": [
              "<keras.src.callbacks.history.History at 0x7a6ecfada310>"
            ]
          },
          "metadata": {},
          "execution_count": 8
        }
      ],
      "source": [
        "model = create_model()\n",
        "\n",
        "model.fit(text_ds, verbose=2, epochs=25, callbacks=[text_gen_callback])"
      ]
    }
  ],
  "metadata": {
    "accelerator": "GPU",
    "colab": {
      "name": "text_generation_with_miniature_gpt",
      "provenance": []
    },
    "kernelspec": {
      "display_name": "Python 3",
      "language": "python",
      "name": "python3"
    },
    "language_info": {
      "codemirror_mode": {
        "name": "ipython",
        "version": 3
      },
      "file_extension": ".py",
      "mimetype": "text/x-python",
      "name": "python",
      "nbconvert_exporter": "python",
      "pygments_lexer": "ipython3",
      "version": "3.7.0"
    }
  },
  "nbformat": 4,
  "nbformat_minor": 0
}
